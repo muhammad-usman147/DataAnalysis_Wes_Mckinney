{
 "cells": [
  {
   "cell_type": "code",
   "execution_count": 1,
   "metadata": {},
   "outputs": [],
   "source": [
    "import numpy as np"
   ]
  },
  {
   "cell_type": "markdown",
   "metadata": {},
   "source": [
    "# Boolean Indexing"
   ]
  },
  {
   "cell_type": "code",
   "execution_count": 23,
   "metadata": {},
   "outputs": [],
   "source": [
    "name=['Bob','Rose','Marley','Mary','Bob','Alex','Robert']\n",
    "name=np.array(name)\n",
    "data=np.random.randn(7,4)"
   ]
  },
  {
   "cell_type": "code",
   "execution_count": 28,
   "metadata": {},
   "outputs": [
    {
     "data": {
      "text/plain": [
       "array([[-1.1577639 ,  0.6622762 , -2.03786036, -0.02018306],\n",
       "       [ 0.01809167,  0.03803094, -0.25894742,  0.08225325],\n",
       "       [ 0.02629574,  0.40920595,  0.23988935, -0.18006089],\n",
       "       [-0.36387224,  0.86822906,  0.39483332,  0.33180869],\n",
       "       [ 1.35716953,  0.05439917,  0.82907523,  1.49923911],\n",
       "       [-0.86624078,  0.10560175,  0.41028064,  1.47470524],\n",
       "       [ 0.84517528, -1.83862262,  0.32566862,  0.3611213 ]])"
      ]
     },
     "execution_count": 28,
     "metadata": {},
     "output_type": "execute_result"
    }
   ],
   "source": [
    "data"
   ]
  },
  {
   "cell_type": "code",
   "execution_count": 29,
   "metadata": {},
   "outputs": [
    {
     "data": {
      "text/plain": [
       "array([ True, False, False, False,  True, False, False])"
      ]
     },
     "execution_count": 29,
     "metadata": {},
     "output_type": "execute_result"
    }
   ],
   "source": [
    "name=='Bob'"
   ]
  },
  {
   "cell_type": "code",
   "execution_count": 30,
   "metadata": {},
   "outputs": [
    {
     "data": {
      "text/plain": [
       "array([[-1.1577639 ,  0.6622762 , -2.03786036, -0.02018306],\n",
       "       [ 1.35716953,  0.05439917,  0.82907523,  1.49923911]])"
      ]
     },
     "execution_count": 30,
     "metadata": {},
     "output_type": "execute_result"
    }
   ],
   "source": [
    "data[name=='Bob'] #selects all the rows with respect to the index number of True in the name boolean array"
   ]
  },
  {
   "cell_type": "code",
   "execution_count": 31,
   "metadata": {},
   "outputs": [
    {
     "data": {
      "text/plain": [
       "array([[-2.03786036, -0.02018306],\n",
       "       [ 0.82907523,  1.49923911]])"
      ]
     },
     "execution_count": 31,
     "metadata": {},
     "output_type": "execute_result"
    }
   ],
   "source": [
    "data[name=='Bob',2:] #applying indexing"
   ]
  },
  {
   "cell_type": "code",
   "execution_count": 32,
   "metadata": {},
   "outputs": [
    {
     "data": {
      "text/plain": [
       "array([[ 0.6622762 , -2.03786036],\n",
       "       [ 0.05439917,  0.82907523]])"
      ]
     },
     "execution_count": 32,
     "metadata": {},
     "output_type": "execute_result"
    }
   ],
   "source": [
    "data[name=='Bob',1:3]"
   ]
  },
  {
   "cell_type": "code",
   "execution_count": 34,
   "metadata": {},
   "outputs": [
    {
     "data": {
      "text/plain": [
       "array([[ 0.01809167,  0.03803094, -0.25894742,  0.08225325],\n",
       "       [ 0.02629574,  0.40920595,  0.23988935, -0.18006089],\n",
       "       [-0.36387224,  0.86822906,  0.39483332,  0.33180869],\n",
       "       [-0.86624078,  0.10560175,  0.41028064,  1.47470524],\n",
       "       [ 0.84517528, -1.83862262,  0.32566862,  0.3611213 ]])"
      ]
     },
     "execution_count": 34,
     "metadata": {},
     "output_type": "execute_result"
    }
   ],
   "source": [
    "data[~(name=='Bob')] #this sign is use to invert the values, displaying all the false values"
   ]
  },
  {
   "cell_type": "code",
   "execution_count": 35,
   "metadata": {},
   "outputs": [],
   "source": [
    "cond=name=='Bob'"
   ]
  },
  {
   "cell_type": "code",
   "execution_count": 36,
   "metadata": {},
   "outputs": [
    {
     "data": {
      "text/plain": [
       "array([ True, False, False, False,  True, False, False])"
      ]
     },
     "execution_count": 36,
     "metadata": {},
     "output_type": "execute_result"
    }
   ],
   "source": [
    "cond"
   ]
  },
  {
   "cell_type": "code",
   "execution_count": 37,
   "metadata": {},
   "outputs": [
    {
     "data": {
      "text/plain": [
       "array([[ 0.01809167,  0.03803094, -0.25894742,  0.08225325],\n",
       "       [ 0.02629574,  0.40920595,  0.23988935, -0.18006089],\n",
       "       [-0.36387224,  0.86822906,  0.39483332,  0.33180869],\n",
       "       [-0.86624078,  0.10560175,  0.41028064,  1.47470524],\n",
       "       [ 0.84517528, -1.83862262,  0.32566862,  0.3611213 ]])"
      ]
     },
     "execution_count": 37,
     "metadata": {},
     "output_type": "execute_result"
    }
   ],
   "source": [
    "data[~cond]"
   ]
  },
  {
   "cell_type": "code",
   "execution_count": 41,
   "metadata": {},
   "outputs": [],
   "source": [
    "mask=(name=='Bob')|(name=='Robert') #appling multiple conditions"
   ]
  },
  {
   "cell_type": "code",
   "execution_count": 39,
   "metadata": {},
   "outputs": [
    {
     "data": {
      "text/plain": [
       "array([ True, False, False, False,  True, False,  True])"
      ]
     },
     "execution_count": 39,
     "metadata": {},
     "output_type": "execute_result"
    }
   ],
   "source": [
    "mask"
   ]
  },
  {
   "cell_type": "code",
   "execution_count": 42,
   "metadata": {},
   "outputs": [
    {
     "data": {
      "text/plain": [
       "array([[-1.1577639 ,  0.6622762 , -2.03786036, -0.02018306],\n",
       "       [ 1.35716953,  0.05439917,  0.82907523,  1.49923911],\n",
       "       [ 0.84517528, -1.83862262,  0.32566862,  0.3611213 ]])"
      ]
     },
     "execution_count": 42,
     "metadata": {},
     "output_type": "execute_result"
    }
   ],
   "source": [
    "data[mask]"
   ]
  },
  {
   "cell_type": "code",
   "execution_count": 43,
   "metadata": {},
   "outputs": [],
   "source": [
    "#eliminating all the negative values\n",
    "x=data[data<0]"
   ]
  },
  {
   "cell_type": "code",
   "execution_count": 44,
   "metadata": {},
   "outputs": [
    {
     "data": {
      "text/plain": [
       "array([-1.1577639 , -2.03786036, -0.02018306, -0.25894742, -0.18006089,\n",
       "       -0.36387224, -0.86624078, -1.83862262])"
      ]
     },
     "execution_count": 44,
     "metadata": {},
     "output_type": "execute_result"
    }
   ],
   "source": [
    "x"
   ]
  },
  {
   "cell_type": "code",
   "execution_count": 45,
   "metadata": {},
   "outputs": [],
   "source": [
    "data[data<0]=0"
   ]
  },
  {
   "cell_type": "code",
   "execution_count": 46,
   "metadata": {},
   "outputs": [
    {
     "data": {
      "text/plain": [
       "array([[0.        , 0.6622762 , 0.        , 0.        ],\n",
       "       [0.01809167, 0.03803094, 0.        , 0.08225325],\n",
       "       [0.02629574, 0.40920595, 0.23988935, 0.        ],\n",
       "       [0.        , 0.86822906, 0.39483332, 0.33180869],\n",
       "       [1.35716953, 0.05439917, 0.82907523, 1.49923911],\n",
       "       [0.        , 0.10560175, 0.41028064, 1.47470524],\n",
       "       [0.84517528, 0.        , 0.32566862, 0.3611213 ]])"
      ]
     },
     "execution_count": 46,
     "metadata": {},
     "output_type": "execute_result"
    }
   ],
   "source": [
    "data"
   ]
  },
  {
   "cell_type": "markdown",
   "metadata": {},
   "source": [
    "# Fancy Indexing"
   ]
  },
  {
   "cell_type": "code",
   "execution_count": 20,
   "metadata": {},
   "outputs": [],
   "source": [
    "arr=np.arange(20).reshape(5,4).astype(np.int64)"
   ]
  },
  {
   "cell_type": "code",
   "execution_count": 26,
   "metadata": {},
   "outputs": [],
   "source": [
    "arr=arr/32"
   ]
  },
  {
   "cell_type": "code",
   "execution_count": 23,
   "metadata": {},
   "outputs": [
    {
     "data": {
      "text/plain": [
       "array([[ 0,  1,  2,  3],\n",
       "       [ 4,  5,  6,  7],\n",
       "       [ 8,  9, 10, 11],\n",
       "       [12, 13, 14, 15],\n",
       "       [16, 17, 18, 19]])"
      ]
     },
     "execution_count": 23,
     "metadata": {},
     "output_type": "execute_result"
    }
   ],
   "source": [
    "arr.astype(np.int64)"
   ]
  },
  {
   "cell_type": "code",
   "execution_count": 27,
   "metadata": {},
   "outputs": [
    {
     "data": {
      "text/plain": [
       "array([[0.     , 0.03125, 0.0625 , 0.09375],\n",
       "       [0.125  , 0.15625, 0.1875 , 0.21875],\n",
       "       [0.25   , 0.28125, 0.3125 , 0.34375],\n",
       "       [0.375  , 0.40625, 0.4375 , 0.46875],\n",
       "       [0.5    , 0.53125, 0.5625 , 0.59375]])"
      ]
     },
     "execution_count": 27,
     "metadata": {},
     "output_type": "execute_result"
    }
   ],
   "source": [
    "arr"
   ]
  },
  {
   "cell_type": "code",
   "execution_count": 28,
   "metadata": {},
   "outputs": [
    {
     "data": {
      "text/plain": [
       "array([[0, 0, 0, 0],\n",
       "       [0, 0, 0, 0],\n",
       "       [0, 0, 0, 0],\n",
       "       [0, 0, 0, 0],\n",
       "       [0, 0, 0, 0]])"
      ]
     },
     "execution_count": 28,
     "metadata": {},
     "output_type": "execute_result"
    }
   ],
   "source": [
    "arr.astype(np.int64)"
   ]
  },
  {
   "cell_type": "code",
   "execution_count": 36,
   "metadata": {},
   "outputs": [],
   "source": [
    "for i in range(5):\n",
    "    arr[i]=i/3"
   ]
  },
  {
   "cell_type": "code",
   "execution_count": 37,
   "metadata": {},
   "outputs": [
    {
     "data": {
      "text/plain": [
       "array([[0.        , 0.        , 0.        , 0.        ],\n",
       "       [0.33333333, 0.33333333, 0.33333333, 0.33333333],\n",
       "       [0.66666667, 0.66666667, 0.66666667, 0.66666667],\n",
       "       [1.        , 1.        , 1.        , 1.        ],\n",
       "       [1.33333333, 1.33333333, 1.33333333, 1.33333333]])"
      ]
     },
     "execution_count": 37,
     "metadata": {},
     "output_type": "execute_result"
    }
   ],
   "source": [
    "arr"
   ]
  },
  {
   "cell_type": "code",
   "execution_count": 38,
   "metadata": {},
   "outputs": [
    {
     "data": {
      "text/plain": [
       "array([0.66666667, 0.66666667, 0.66666667, 0.66666667])"
      ]
     },
     "execution_count": 38,
     "metadata": {},
     "output_type": "execute_result"
    }
   ],
   "source": [
    "arr[2]"
   ]
  },
  {
   "cell_type": "code",
   "execution_count": 39,
   "metadata": {},
   "outputs": [
    {
     "data": {
      "text/plain": [
       "array([[0.66666667, 0.66666667, 0.66666667, 0.66666667],\n",
       "       [1.33333333, 1.33333333, 1.33333333, 1.33333333]])"
      ]
     },
     "execution_count": 39,
     "metadata": {},
     "output_type": "execute_result"
    }
   ],
   "source": [
    "#selecting multiple rows\n",
    "arr[[2,4]]"
   ]
  },
  {
   "cell_type": "code",
   "execution_count": 41,
   "metadata": {},
   "outputs": [
    {
     "data": {
      "text/plain": [
       "array([[1.        , 1.        , 1.        , 1.        ],\n",
       "       [1.33333333, 1.33333333, 1.33333333, 1.33333333],\n",
       "       [0.66666667, 0.66666667, 0.66666667, 0.66666667]])"
      ]
     },
     "execution_count": 41,
     "metadata": {},
     "output_type": "execute_result"
    }
   ],
   "source": [
    "#using negative indexing \n",
    "arr[[-2,-1,-3]]"
   ]
  },
  {
   "cell_type": "code",
   "execution_count": 44,
   "metadata": {},
   "outputs": [],
   "source": [
    "arr=np.arange(32).reshape((8,4))"
   ]
  },
  {
   "cell_type": "code",
   "execution_count": 45,
   "metadata": {},
   "outputs": [
    {
     "data": {
      "text/plain": [
       "array([[ 0,  1,  2,  3],\n",
       "       [ 4,  5,  6,  7],\n",
       "       [ 8,  9, 10, 11],\n",
       "       [12, 13, 14, 15],\n",
       "       [16, 17, 18, 19],\n",
       "       [20, 21, 22, 23],\n",
       "       [24, 25, 26, 27],\n",
       "       [28, 29, 30, 31]])"
      ]
     },
     "execution_count": 45,
     "metadata": {},
     "output_type": "execute_result"
    }
   ],
   "source": [
    "arr"
   ]
  },
  {
   "cell_type": "code",
   "execution_count": 46,
   "metadata": {},
   "outputs": [
    {
     "data": {
      "text/plain": [
       "array([[ 4,  5,  6,  7],\n",
       "       [20, 21, 22, 23],\n",
       "       [28, 29, 30, 31],\n",
       "       [ 8,  9, 10, 11]])"
      ]
     },
     "execution_count": 46,
     "metadata": {},
     "output_type": "execute_result"
    }
   ],
   "source": [
    "arr[[1,5,7,2]]"
   ]
  },
  {
   "cell_type": "code",
   "execution_count": 47,
   "metadata": {},
   "outputs": [
    {
     "data": {
      "text/plain": [
       "array([[ 0,  1,  2,  3],\n",
       "       [12, 13, 14, 15],\n",
       "       [ 4,  5,  6,  7],\n",
       "       [ 8,  9, 10, 11]])"
      ]
     },
     "execution_count": 47,
     "metadata": {},
     "output_type": "execute_result"
    }
   ],
   "source": [
    "arr[[0,3,1,2]]"
   ]
  },
  {
   "cell_type": "code",
   "execution_count": 54,
   "metadata": {},
   "outputs": [
    {
     "data": {
      "text/plain": [
       "array([ 4, 23, 29, 10,  7])"
      ]
     },
     "execution_count": 54,
     "metadata": {},
     "output_type": "execute_result"
    }
   ],
   "source": [
    "arr[[1,5,7,2,1],[0,3,1,2,3]] #here it is creating tuples like (1,0),(5,3),(7,1),(2,2) in rows and column of same indexes\n",
    "#of different arrays"
   ]
  },
  {
   "cell_type": "code",
   "execution_count": 65,
   "metadata": {},
   "outputs": [
    {
     "data": {
      "text/plain": [
       "array([[ 0,  1,  2,  3],\n",
       "       [ 4,  5,  6,  7],\n",
       "       [ 8,  9, 10, 11],\n",
       "       [12, 13, 14, 15],\n",
       "       [16, 17, 18, 19],\n",
       "       [20, 21, 22, 23],\n",
       "       [24, 25, 26, 27],\n",
       "       [28, 29, 30, 31]])"
      ]
     },
     "execution_count": 65,
     "metadata": {},
     "output_type": "execute_result"
    }
   ],
   "source": [
    "arr"
   ]
  },
  {
   "cell_type": "code",
   "execution_count": 63,
   "metadata": {},
   "outputs": [
    {
     "data": {
      "text/plain": [
       "array([[ 4,  5,  6,  7],\n",
       "       [20, 21, 22, 23],\n",
       "       [28, 29, 30, 31],\n",
       "       [ 8,  9, 10, 11]])"
      ]
     },
     "execution_count": 63,
     "metadata": {},
     "output_type": "execute_result"
    }
   ],
   "source": [
    "arr[[1,5,7,2]]"
   ]
  },
  {
   "cell_type": "code",
   "execution_count": 64,
   "metadata": {},
   "outputs": [
    {
     "data": {
      "text/plain": [
       "array([20, 21, 22, 23])"
      ]
     },
     "execution_count": 64,
     "metadata": {},
     "output_type": "execute_result"
    }
   ],
   "source": [
    "arr[[1,5,7,2]][1] #one is the row number\n",
    "'''\n",
    "array([[ 4,  5,  6,  7],\n",
    "       [20, 21, 22, 23], #index no 1\n",
    "       [28, 29, 30, 31],\n",
    "       [ 8,  9, 10, 11]])'''"
   ]
  },
  {
   "cell_type": "code",
   "execution_count": 66,
   "metadata": {},
   "outputs": [
    {
     "data": {
      "text/plain": [
       "array([[ 4,  5,  6,  7],\n",
       "       [20, 21, 22, 23],\n",
       "       [28, 29, 30, 31],\n",
       "       [ 8,  9, 10, 11]])"
      ]
     },
     "execution_count": 66,
     "metadata": {},
     "output_type": "execute_result"
    }
   ],
   "source": [
    "arr[[1,5,7,2]][:] #getting all values"
   ]
  },
  {
   "cell_type": "code",
   "execution_count": 67,
   "metadata": {},
   "outputs": [
    {
     "data": {
      "text/plain": [
       "array([[ 4,  7],\n",
       "       [20, 23],\n",
       "       [28, 31],\n",
       "       [ 8, 11]])"
      ]
     },
     "execution_count": 67,
     "metadata": {},
     "output_type": "execute_result"
    }
   ],
   "source": [
    "arr[[1,5,7,2]][:,[0,3]] #it is only getting the column number [0,3] are the column numbers of the sliced index"
   ]
  },
  {
   "cell_type": "code",
   "execution_count": 70,
   "metadata": {},
   "outputs": [
    {
     "data": {
      "text/plain": [
       "array([[ 4,  5,  7],\n",
       "       [20, 21, 23],\n",
       "       [28, 29, 31],\n",
       "       [ 8,  9, 11]])"
      ]
     },
     "execution_count": 70,
     "metadata": {},
     "output_type": "execute_result"
    }
   ],
   "source": [
    "arr[[1,5,7,2]][:,[0,1,3]]"
   ]
  },
  {
   "cell_type": "code",
   "execution_count": 74,
   "metadata": {},
   "outputs": [
    {
     "data": {
      "text/plain": [
       "array([[ 4,  7,  5],\n",
       "       [20, 23, 21],\n",
       "       [28, 31, 29],\n",
       "       [ 8, 11,  9]])"
      ]
     },
     "execution_count": 74,
     "metadata": {},
     "output_type": "execute_result"
    }
   ],
   "source": [
    "arr[[1,5,7,2]][:,[0,3,1]] #you can see that the values of columns are applied to the given column numbers respectively"
   ]
  },
  {
   "cell_type": "markdown",
   "metadata": {},
   "source": [
    "# Transposing"
   ]
  },
  {
   "cell_type": "code",
   "execution_count": 77,
   "metadata": {},
   "outputs": [
    {
     "data": {
      "text/plain": [
       "array([[ 0,  1,  2,  3],\n",
       "       [ 4,  5,  6,  7],\n",
       "       [ 8,  9, 10, 11],\n",
       "       [12, 13, 14, 15],\n",
       "       [16, 17, 18, 19],\n",
       "       [20, 21, 22, 23],\n",
       "       [24, 25, 26, 27],\n",
       "       [28, 29, 30, 31]])"
      ]
     },
     "execution_count": 77,
     "metadata": {},
     "output_type": "execute_result"
    }
   ],
   "source": [
    "arr"
   ]
  },
  {
   "cell_type": "code",
   "execution_count": 79,
   "metadata": {},
   "outputs": [
    {
     "data": {
      "text/plain": [
       "array([[ 0,  4,  8, 12, 16, 20, 24, 28],\n",
       "       [ 1,  5,  9, 13, 17, 21, 25, 29],\n",
       "       [ 2,  6, 10, 14, 18, 22, 26, 30],\n",
       "       [ 3,  7, 11, 15, 19, 23, 27, 31]])"
      ]
     },
     "execution_count": 79,
     "metadata": {},
     "output_type": "execute_result"
    }
   ],
   "source": [
    "arr.T #converting rows into columns and columns into rows"
   ]
  },
  {
   "cell_type": "code",
   "execution_count": 82,
   "metadata": {},
   "outputs": [],
   "source": [
    "arr2=np.random.rand(6,3)"
   ]
  },
  {
   "cell_type": "code",
   "execution_count": 84,
   "metadata": {},
   "outputs": [],
   "source": [
    "arr2=arr2*10"
   ]
  },
  {
   "cell_type": "code",
   "execution_count": 85,
   "metadata": {},
   "outputs": [
    {
     "data": {
      "text/plain": [
       "array([[ 5.47644718, 72.29668049, 11.2163119 ],\n",
       "       [45.96890938, 23.25108653, 49.8767786 ],\n",
       "       [55.9551358 , 31.40499651, 60.3781863 ],\n",
       "       [58.92148252, 98.45366904, 37.47930132],\n",
       "       [37.51512165, 86.27213377, 39.34324406],\n",
       "       [52.8589972 ,  5.04820776, 18.09325818]])"
      ]
     },
     "execution_count": 85,
     "metadata": {},
     "output_type": "execute_result"
    }
   ],
   "source": [
    "arr2"
   ]
  },
  {
   "cell_type": "code",
   "execution_count": 88,
   "metadata": {},
   "outputs": [
    {
     "data": {
      "text/plain": [
       "array([[ 5382.60713569,  2492.15618307,  3254.13291363,  7860.93337314,\n",
       "         6883.92456835,   857.3877965 ],\n",
       "       [ 2492.15618307,  5141.44669743,  6313.86628818,  6867.05788216,\n",
       "         5692.76434786,  3449.68019995],\n",
       "       [ 3254.13291363,  6313.86628818,  7762.77640876,  8651.82892616,\n",
       "         7184.01350588,  4208.7094268 ],\n",
       "       [ 7860.93337314,  6867.05788216,  8651.82892616, 14569.56407683,\n",
       "        12178.81198838,  4289.66773094],\n",
       "       [ 6883.92456835,  5692.76434786,  7184.01350588, 12178.81198838,\n",
       "        10398.15626994,  3130.37883777],\n",
       "       [  857.3877965 ,  3449.68019995,  4208.7094268 ,  4289.66773094,\n",
       "         3130.37883777,  3146.92397832]])"
      ]
     },
     "execution_count": 88,
     "metadata": {},
     "output_type": "execute_result"
    }
   ],
   "source": [
    "np.dot(arr2,arr2.T) #getting dot product of 2 arrays"
   ]
  },
  {
   "cell_type": "code",
   "execution_count": 144,
   "metadata": {},
   "outputs": [],
   "source": [
    "arr=np.arange(32).reshape((4,4,2)) #2 arrays 2 rows in each array and 4 columns"
   ]
  },
  {
   "cell_type": "code",
   "execution_count": 145,
   "metadata": {},
   "outputs": [
    {
     "data": {
      "text/plain": [
       "array([[[ 0,  8, 16, 24],\n",
       "        [ 2, 10, 18, 26],\n",
       "        [ 4, 12, 20, 28],\n",
       "        [ 6, 14, 22, 30]],\n",
       "\n",
       "       [[ 1,  9, 17, 25],\n",
       "        [ 3, 11, 19, 27],\n",
       "        [ 5, 13, 21, 29],\n",
       "        [ 7, 15, 23, 31]]])"
      ]
     },
     "execution_count": 145,
     "metadata": {},
     "output_type": "execute_result"
    }
   ],
   "source": [
    "arr.transpose()"
   ]
  },
  {
   "cell_type": "code",
   "execution_count": 146,
   "metadata": {},
   "outputs": [
    {
     "data": {
      "text/plain": [
       "array([[[ 0,  1],\n",
       "        [ 2,  3],\n",
       "        [ 4,  5],\n",
       "        [ 6,  7]],\n",
       "\n",
       "       [[ 8,  9],\n",
       "        [10, 11],\n",
       "        [12, 13],\n",
       "        [14, 15]],\n",
       "\n",
       "       [[16, 17],\n",
       "        [18, 19],\n",
       "        [20, 21],\n",
       "        [22, 23]],\n",
       "\n",
       "       [[24, 25],\n",
       "        [26, 27],\n",
       "        [28, 29],\n",
       "        [30, 31]]])"
      ]
     },
     "execution_count": 146,
     "metadata": {},
     "output_type": "execute_result"
    }
   ],
   "source": [
    "arr"
   ]
  },
  {
   "cell_type": "code",
   "execution_count": 156,
   "metadata": {},
   "outputs": [
    {
     "data": {
      "text/plain": [
       "array([[[ 0,  1],\n",
       "        [ 8,  9],\n",
       "        [16, 17],\n",
       "        [24, 25]],\n",
       "\n",
       "       [[ 2,  3],\n",
       "        [10, 11],\n",
       "        [18, 19],\n",
       "        [26, 27]],\n",
       "\n",
       "       [[ 4,  5],\n",
       "        [12, 13],\n",
       "        [20, 21],\n",
       "        [28, 29]],\n",
       "\n",
       "       [[ 6,  7],\n",
       "        [14, 15],\n",
       "        [22, 23],\n",
       "        [30, 31]]])"
      ]
     },
     "execution_count": 156,
     "metadata": {},
     "output_type": "execute_result"
    }
   ],
   "source": [
    "#you can also pass the tuples to transpose the multi-dimensions array\n",
    "\n",
    "arr.transpose((1,0,2)) #here the second axes become firs and first axes becomes second"
   ]
  },
  {
   "cell_type": "code",
   "execution_count": 157,
   "metadata": {},
   "outputs": [
    {
     "data": {
      "text/plain": [
       "' This 3d array\\n0,1   8,9    16,17   24,25\\n2,3   10,11  18,19   26,27\\n4,5   12,13  20,21   28,29\\n6,7   14,15  22,23   30,31\\n\\nconverted into\\n\\n0,1    2,3    4,5    6,7\\n8,9    10,11  12,13  14,15\\n16,17  18,19  20,21  22,23\\n23,25  26,27  28,29  30,31\\n\\n'"
      ]
     },
     "execution_count": 157,
     "metadata": {},
     "output_type": "execute_result"
    }
   ],
   "source": [
    "''' This 3d array\n",
    "0,1   8,9    16,17   24,25\n",
    "2,3   10,11  18,19   26,27\n",
    "4,5   12,13  20,21   28,29\n",
    "6,7   14,15  22,23   30,31\n",
    "\n",
    "converted into\n",
    "\n",
    "0,1    2,3    4,5    6,7\n",
    "8,9    10,11  12,13  14,15\n",
    "16,17  18,19  20,21  22,23\n",
    "23,25  26,27  28,29  30,31\n",
    "\n",
    "'''\n"
   ]
  },
  {
   "cell_type": "code",
   "execution_count": 149,
   "metadata": {},
   "outputs": [
    {
     "data": {
      "text/plain": [
       "array([[ 5.47644718, 72.29668049, 11.2163119 ],\n",
       "       [45.96890938, 23.25108653, 49.8767786 ],\n",
       "       [55.9551358 , 31.40499651, 60.3781863 ],\n",
       "       [58.92148252, 98.45366904, 37.47930132],\n",
       "       [37.51512165, 86.27213377, 39.34324406],\n",
       "       [52.8589972 ,  5.04820776, 18.09325818]])"
      ]
     },
     "execution_count": 149,
     "metadata": {},
     "output_type": "execute_result"
    }
   ],
   "source": [
    "arr2"
   ]
  },
  {
   "cell_type": "code",
   "execution_count": 150,
   "metadata": {},
   "outputs": [
    {
     "data": {
      "text/plain": [
       "array([[ 5.47644718, 45.96890938, 55.9551358 , 58.92148252, 37.51512165,\n",
       "        52.8589972 ],\n",
       "       [72.29668049, 23.25108653, 31.40499651, 98.45366904, 86.27213377,\n",
       "         5.04820776],\n",
       "       [11.2163119 , 49.8767786 , 60.3781863 , 37.47930132, 39.34324406,\n",
       "        18.09325818]])"
      ]
     },
     "execution_count": 150,
     "metadata": {},
     "output_type": "execute_result"
    }
   ],
   "source": [
    "arr2.transpose()"
   ]
  },
  {
   "cell_type": "code",
   "execution_count": 151,
   "metadata": {},
   "outputs": [
    {
     "data": {
      "text/plain": [
       "array([[ 5.47644718, 45.96890938, 55.9551358 , 58.92148252, 37.51512165,\n",
       "        52.8589972 ],\n",
       "       [72.29668049, 23.25108653, 31.40499651, 98.45366904, 86.27213377,\n",
       "         5.04820776],\n",
       "       [11.2163119 , 49.8767786 , 60.3781863 , 37.47930132, 39.34324406,\n",
       "        18.09325818]])"
      ]
     },
     "execution_count": 151,
     "metadata": {},
     "output_type": "execute_result"
    }
   ],
   "source": [
    "arr2.transpose(1,0)"
   ]
  },
  {
   "cell_type": "code",
   "execution_count": 161,
   "metadata": {},
   "outputs": [
    {
     "data": {
      "text/plain": [
       "array([[[ 0,  1],\n",
       "        [ 2,  3],\n",
       "        [ 4,  5],\n",
       "        [ 6,  7]],\n",
       "\n",
       "       [[ 8,  9],\n",
       "        [10, 11],\n",
       "        [12, 13],\n",
       "        [14, 15]],\n",
       "\n",
       "       [[16, 17],\n",
       "        [18, 19],\n",
       "        [20, 21],\n",
       "        [22, 23]],\n",
       "\n",
       "       [[24, 25],\n",
       "        [26, 27],\n",
       "        [28, 29],\n",
       "        [30, 31]]])"
      ]
     },
     "execution_count": 161,
     "metadata": {},
     "output_type": "execute_result"
    }
   ],
   "source": [
    "arr"
   ]
  },
  {
   "cell_type": "code",
   "execution_count": 193,
   "metadata": {},
   "outputs": [],
   "source": [
    "#swapaxes method, it returns the view but donot make copy\n",
    "arange=arr.swapaxes(1,2) \n",
    "arange2=arr.swapaxes(0,2)\n",
    "arange3=arr.swapaxes(0,1)\n",
    "arange4=arr.swapaxes(2,1)\n",
    "arange5=arr.swapaxes(2,0)"
   ]
  },
  {
   "cell_type": "code",
   "execution_count": 195,
   "metadata": {},
   "outputs": [
    {
     "data": {
      "text/plain": [
       "array([[[ 0,  8, 16, 24],\n",
       "        [ 2, 10, 18, 26],\n",
       "        [ 4, 12, 20, 28],\n",
       "        [ 6, 14, 22, 30]],\n",
       "\n",
       "       [[ 1,  9, 17, 25],\n",
       "        [ 3, 11, 19, 27],\n",
       "        [ 5, 13, 21, 29],\n",
       "        [ 7, 15, 23, 31]]])"
      ]
     },
     "execution_count": 195,
     "metadata": {},
     "output_type": "execute_result"
    }
   ],
   "source": [
    "arange2\n",
    "#(2,1)=(1,2)\n",
    "#(2,0)=(0,2)"
   ]
  },
  {
   "cell_type": "code",
   "execution_count": 166,
   "metadata": {},
   "outputs": [
    {
     "data": {
      "text/plain": [
       "array([[[ 0,  1],\n",
       "        [ 2,  3],\n",
       "        [ 4,  5],\n",
       "        [ 6,  7]],\n",
       "\n",
       "       [[ 8,  9],\n",
       "        [10, 11],\n",
       "        [12, 13],\n",
       "        [14, 15]],\n",
       "\n",
       "       [[16, 17],\n",
       "        [18, 19],\n",
       "        [20, 21],\n",
       "        [22, 23]],\n",
       "\n",
       "       [[24, 25],\n",
       "        [26, 27],\n",
       "        [28, 29],\n",
       "        [30, 31]]])"
      ]
     },
     "execution_count": 166,
     "metadata": {},
     "output_type": "execute_result"
    }
   ],
   "source": [
    "arange.swapaxes(1,2)"
   ]
  },
  {
   "cell_type": "code",
   "execution_count": 167,
   "metadata": {},
   "outputs": [
    {
     "data": {
      "text/plain": [
       "array([[[ 0,  2,  4,  6],\n",
       "        [ 8, 10, 12, 14],\n",
       "        [16, 18, 20, 22],\n",
       "        [24, 26, 28, 30]],\n",
       "\n",
       "       [[ 1,  3,  5,  7],\n",
       "        [ 9, 11, 13, 15],\n",
       "        [17, 19, 21, 23],\n",
       "        [25, 27, 29, 31]]])"
      ]
     },
     "execution_count": 167,
     "metadata": {},
     "output_type": "execute_result"
    }
   ],
   "source": [
    "arange.swapaxes(0,1)"
   ]
  },
  {
   "cell_type": "code",
   "execution_count": null,
   "metadata": {},
   "outputs": [],
   "source": []
  }
 ],
 "metadata": {
  "kernelspec": {
   "display_name": "Python 3",
   "language": "python",
   "name": "python3"
  },
  "language_info": {
   "codemirror_mode": {
    "name": "ipython",
    "version": 3
   },
   "file_extension": ".py",
   "mimetype": "text/x-python",
   "name": "python",
   "nbconvert_exporter": "python",
   "pygments_lexer": "ipython3",
   "version": "3.6.7"
  }
 },
 "nbformat": 4,
 "nbformat_minor": 2
}
